{
 "cells": [
  {
   "cell_type": "markdown",
   "metadata": {
    "application/vnd.databricks.v1+cell": {
     "cellMetadata": {
      "byteLimit": 2048000,
      "rowLimit": 10000
     },
     "inputWidgets": {},
     "nuid": "97f7472f-4064-4a5d-9d3f-62659925c413",
     "showTitle": false,
     "tableResultSettingsMap": {},
     "title": ""
    }
   },
   "source": [
    "# Find a mentor - Proof of concept"
   ]
  },
  {
   "cell_type": "markdown",
   "metadata": {
    "application/vnd.databricks.v1+cell": {
     "cellMetadata": {
      "byteLimit": 2048000,
      "rowLimit": 10000
     },
     "inputWidgets": {},
     "nuid": "2a603423-361b-4d08-9e93-51295a53f8e9",
     "showTitle": false,
     "tableResultSettingsMap": {},
     "title": ""
    }
   },
   "source": [
    "### Setup"
   ]
  },
  {
   "cell_type": "code",
   "execution_count": 0,
   "metadata": {
    "application/vnd.databricks.v1+cell": {
     "cellMetadata": {
      "byteLimit": 2048000,
      "rowLimit": 10000
     },
     "collapsed": true,
     "inputWidgets": {},
     "nuid": "59f001f5-a810-491a-af55-f22b68025d66",
     "showTitle": false,
     "tableResultSettingsMap": {},
     "title": ""
    }
   },
   "outputs": [
    {
     "output_type": "stream",
     "name": "stdout",
     "output_type": "stream",
     "text": [
      "Collecting faiss-cpu\n  Obtaining dependency information for faiss-cpu from https://files.pythonhosted.org/packages/e4/9c/aed8b7c6c490c777c404131b3f6a68e4924fbc149620dc6d6a3563435371/faiss_cpu-1.9.0.post1-cp311-cp311-manylinux_2_17_x86_64.manylinux2014_x86_64.whl.metadata\n  Downloading faiss_cpu-1.9.0.post1-cp311-cp311-manylinux_2_17_x86_64.manylinux2014_x86_64.whl.metadata (4.4 kB)\nCollecting numpy<3.0,>=1.25.0 (from faiss-cpu)\n  Obtaining dependency information for numpy<3.0,>=1.25.0 from https://files.pythonhosted.org/packages/5b/86/caec78829311f62afa6fa334c8dfcd79cffb4d24bcf96ee02ae4840d462b/numpy-2.2.2-cp311-cp311-manylinux_2_17_x86_64.manylinux2014_x86_64.whl.metadata\n  Downloading numpy-2.2.2-cp311-cp311-manylinux_2_17_x86_64.manylinux2014_x86_64.whl.metadata (62 kB)\n\u001B[?25l     \u001B[90m━━━━━━━━━━━━━━━━━━━━━━━━━━━━━━━━━━━━━━━━\u001B[0m \u001B[32m0.0/62.0 kB\u001B[0m \u001B[31m?\u001B[0m eta \u001B[36m-:--:--\u001B[0m\n\u001B[2K     \u001B[90m━━━━━━━━━━━━━━━━━━━━━━━━━━━━━━━━━━━━━━━━\u001B[0m \u001B[32m62.0/62.0 kB\u001B[0m \u001B[31m2.3 MB/s\u001B[0m eta \u001B[36m0:00:00\u001B[0m\n\u001B[?25hRequirement already satisfied: packaging in /databricks/python3/lib/python3.11/site-packages (from faiss-cpu) (23.2)\nDownloading faiss_cpu-1.9.0.post1-cp311-cp311-manylinux_2_17_x86_64.manylinux2014_x86_64.whl (27.5 MB)\n\u001B[?25l   \u001B[90m━━━━━━━━━━━━━━━━━━━━━━━━━━━━━━━━━━━━━━━━\u001B[0m \u001B[32m0.0/27.5 MB\u001B[0m \u001B[31m?\u001B[0m eta \u001B[36m-:--:--\u001B[0m\n\u001B[2K   \u001B[91m━━━\u001B[0m\u001B[91m╸\u001B[0m\u001B[90m━━━━━━━━━━━━━━━━━━━━━━━━━━━━━━━━━━━━\u001B[0m \u001B[32m2.7/27.5 MB\u001B[0m \u001B[31m80.3 MB/s\u001B[0m eta \u001B[36m0:00:01\u001B[0m\n\u001B[2K   \u001B[91m━━━━━━━━━\u001B[0m\u001B[90m╺\u001B[0m\u001B[90m━━━━━━━━━━━━━━━━━━━━━━━━━━━━━━\u001B[0m \u001B[32m6.5/27.5 MB\u001B[0m \u001B[31m94.9 MB/s\u001B[0m eta \u001B[36m0:00:01\u001B[0m\n\u001B[2K   \u001B[91m━━━━━━━━━━━━━━━\u001B[0m\u001B[90m╺\u001B[0m\u001B[90m━━━━━━━━━━━━━━━━━━━━━━━━\u001B[0m \u001B[32m10.6/27.5 MB\u001B[0m \u001B[31m112.7 MB/s\u001B[0m eta \u001B[36m0:00:01\u001B[0m\n\u001B[2K   \u001B[91m━━━━━━━━━━━━━━━━━━━━\u001B[0m\u001B[91m╸\u001B[0m\u001B[90m━━━━━━━━━━━━━━━━━━━\u001B[0m \u001B[32m14.4/27.5 MB\u001B[0m \u001B[31m114.2 MB/s\u001B[0m eta \u001B[36m0:00:01\u001B[0m\n\u001B[2K   \u001B[91m━━━━━━━━━━━━━━━━━━━━━━━━━\u001B[0m\u001B[91m╸\u001B[0m\u001B[90m━━━━━━━━━━━━━━\u001B[0m \u001B[32m17.8/27.5 MB\u001B[0m \u001B[31m108.1 MB/s\u001B[0m eta \u001B[36m0:00:01\u001B[0m\n\u001B[2K   \u001B[91m━━━━━━━━━━━━━━━━━━━━━━━━━━━━━━\u001B[0m\u001B[90m╺\u001B[0m\u001B[90m━━━━━━━━━\u001B[0m \u001B[32m20.9/27.5 MB\u001B[0m \u001B[31m97.8 MB/s\u001B[0m eta \u001B[36m0:00:01\u001B[0m\n\u001B[2K   \u001B[91m━━━━━━━━━━━━━━━━━━━━━━━━━━━━━━━━━━━━\u001B[0m\u001B[90m╺\u001B[0m\u001B[90m━━━\u001B[0m \u001B[32m25.1/27.5 MB\u001B[0m \u001B[31m100.4 MB/s\u001B[0m eta \u001B[36m0:00:01\u001B[0m\n\u001B[2K   \u001B[91m━━━━━━━━━━━━━━━━━━━━━━━━━━━━━━━━━━━━━━━\u001B[0m\u001B[91m╸\u001B[0m \u001B[32m27.5/27.5 MB\u001B[0m \u001B[31m101.3 MB/s\u001B[0m eta \u001B[36m0:00:01\u001B[0m\n\u001B[2K   \u001B[91m━━━━━━━━━━━━━━━━━━━━━━━━━━━━━━━━━━━━━━━\u001B[0m\u001B[91m╸\u001B[0m \u001B[32m27.5/27.5 MB\u001B[0m \u001B[31m101.3 MB/s\u001B[0m eta \u001B[36m0:00:01\u001B[0m\n\u001B[2K   \u001B[91m━━━━━━━━━━━━━━━━━━━━━━━━━━━━━━━━━━━━━━━\u001B[0m\u001B[91m╸\u001B[0m \u001B[32m27.5/27.5 MB\u001B[0m \u001B[31m101.3 MB/s\u001B[0m eta \u001B[36m0:00:01\u001B[0m\n\u001B[2K   \u001B[91m━━━━━━━━━━━━━━━━━━━━━━━━━━━━━━━━━━━━━━━\u001B[0m\u001B[91m╸\u001B[0m \u001B[32m27.5/27.5 MB\u001B[0m \u001B[31m101.3 MB/s\u001B[0m eta \u001B[36m0:00:01\u001B[0m\n\u001B[2K   \u001B[91m━━━━━━━━━━━━━━━━━━━━━━━━━━━━━━━━━━━━━━━\u001B[0m\u001B[91m╸\u001B[0m \u001B[32m27.5/27.5 MB\u001B[0m \u001B[31m101.3 MB/s\u001B[0m eta \u001B[36m0:00:01\u001B[0m\n\u001B[2K   \u001B[91m━━━━━━━━━━━━━━━━━━━━━━━━━━━━━━━━━━━━━━━\u001B[0m\u001B[91m╸\u001B[0m \u001B[32m27.5/27.5 MB\u001B[0m \u001B[31m101.3 MB/s\u001B[0m eta \u001B[36m0:00:01\u001B[0m\n\u001B[2K   \u001B[90m━━━━━━━━━━━━━━━━━━━━━━━━━━━━━━━━━━━━━━━━\u001B[0m \u001B[32m27.5/27.5 MB\u001B[0m \u001B[31m30.6 MB/s\u001B[0m eta \u001B[36m0:00:00\u001B[0m\n\u001B[?25hDownloading numpy-2.2.2-cp311-cp311-manylinux_2_17_x86_64.manylinux2014_x86_64.whl (16.4 MB)\n\u001B[?25l   \u001B[90m━━━━━━━━━━━━━━━━━━━━━━━━━━━━━━━━━━━━━━━━\u001B[0m \u001B[32m0.0/16.4 MB\u001B[0m \u001B[31m?\u001B[0m eta \u001B[36m-:--:--\u001B[0m\n\u001B[2K   \u001B[91m━━━━━━━━━━━━\u001B[0m\u001B[91m╸\u001B[0m\u001B[90m━━━━━━━━━━━━━━━━━━━━━━━━━━━\u001B[0m \u001B[32m5.2/16.4 MB\u001B[0m \u001B[31m110.8 MB/s\u001B[0m eta \u001B[36m0:00:01\u001B[0m\n\u001B[2K   \u001B[91m━━━━━━━━━━━━━━━━━━━━━\u001B[0m\u001B[90m╺\u001B[0m\u001B[90m━━━━━━━━━━━━━━━━━━\u001B[0m \u001B[32m8.7/16.4 MB\u001B[0m \u001B[31m101.8 MB/s\u001B[0m eta \u001B[36m0:00:01\u001B[0m\n\u001B[2K   \u001B[91m━━━━━━━━━━━━━━━━━━━━━━━━━━━━━━\u001B[0m\u001B[91m╸\u001B[0m\u001B[90m━━━━━━━━━\u001B[0m \u001B[32m12.5/16.4 MB\u001B[0m \u001B[31m101.6 MB/s\u001B[0m eta \u001B[36m0:00:01\u001B[0m\n\u001B[2K   \u001B[91m━━━━━━━━━━━━━━━━━━━━━━━━━━━━━━━━━━━━━━━\u001B[0m\u001B[91m╸\u001B[0m \u001B[32m16.4/16.4 MB\u001B[0m \u001B[31m113.7 MB/s\u001B[0m eta \u001B[36m0:00:01\u001B[0m\n\u001B[2K   \u001B[91m━━━━━━━━━━━━━━━━━━━━━━━━━━━━━━━━━━━━━━━\u001B[0m\u001B[91m╸\u001B[0m \u001B[32m16.4/16.4 MB\u001B[0m \u001B[31m113.7 MB/s\u001B[0m eta \u001B[36m0:00:01\u001B[0m\n\u001B[2K   \u001B[91m━━━━━━━━━━━━━━━━━━━━━━━━━━━━━━━━━━━━━━━\u001B[0m\u001B[91m╸\u001B[0m \u001B[32m16.4/16.4 MB\u001B[0m \u001B[31m113.7 MB/s\u001B[0m eta \u001B[36m0:00:01\u001B[0m\n\u001B[2K   \u001B[91m━━━━━━━━━━━━━━━━━━━━━━━━━━━━━━━━━━━━━━━\u001B[0m\u001B[91m╸\u001B[0m \u001B[32m16.4/16.4 MB\u001B[0m \u001B[31m113.7 MB/s\u001B[0m eta \u001B[36m0:00:01\u001B[0m\n\u001B[2K   \u001B[91m━━━━━━━━━━━━━━━━━━━━━━━━━━━━━━━━━━━━━━━\u001B[0m\u001B[91m╸\u001B[0m \u001B[32m16.4/16.4 MB\u001B[0m \u001B[31m113.7 MB/s\u001B[0m eta \u001B[36m0:00:01\u001B[0m\n\u001B[2K   \u001B[90m━━━━━━━━━━━━━━━━━━━━━━━━━━━━━━━━━━━━━━━━\u001B[0m \u001B[32m16.4/16.4 MB\u001B[0m \u001B[31m38.4 MB/s\u001B[0m eta \u001B[36m0:00:00\u001B[0m\n\u001B[?25hInstalling collected packages: numpy, faiss-cpu\n  Attempting uninstall: numpy\n    Found existing installation: numpy 1.23.5\n    Not uninstalling numpy at /databricks/python3/lib/python3.11/site-packages, outside environment /local_disk0/.ephemeral_nfs/envs/pythonEnv-aab4e116-22c9-4db1-9b61-f7adbfcccc19\n    Can't uninstall 'numpy'. No files were found to uninstall.\n\u001B[31mERROR: pip's dependency resolver does not currently take into account all the packages that are installed. This behaviour is the source of the following dependency conflicts.\npetastorm 0.12.1 requires pyspark>=2.1.0, which is not installed.\ndatabricks-feature-engineering 0.6.0 requires numpy<2,>=1.19.2, but you have numpy 2.2.2 which is incompatible.\nlangchain 0.1.20 requires numpy<2,>=1, but you have numpy 2.2.2 which is incompatible.\nlangchain-community 0.0.38 requires numpy<2,>=1, but you have numpy 2.2.2 which is incompatible.\nnumba 0.57.1 requires numpy<1.25,>=1.21, but you have numpy 2.2.2 which is incompatible.\nscipy 1.11.1 requires numpy<1.28.0,>=1.21.6, but you have numpy 2.2.2 which is incompatible.\ntensorflow 2.16.1 requires numpy<2.0.0,>=1.23.5; python_version <= \"3.11\", but you have numpy 2.2.2 which is incompatible.\nydata-profiling 4.5.1 requires numpy<1.24,>=1.16.0, but you have numpy 2.2.2 which is incompatible.\u001B[0m\u001B[31m\n\u001B[0mSuccessfully installed faiss-cpu-1.9.0.post1 numpy-2.2.2\n\u001B[43mNote: you may need to restart the kernel using %restart_python or dbutils.library.restartPython() to use updated packages.\u001B[0m\n"
     ]
    }
   ],
   "source": [
    "%pip install faiss-cpu"
   ]
  },
  {
   "cell_type": "code",
   "execution_count": 0,
   "metadata": {
    "application/vnd.databricks.v1+cell": {
     "cellMetadata": {
      "byteLimit": 2048000,
      "rowLimit": 10000
     },
     "collapsed": true,
     "inputWidgets": {},
     "nuid": "d767ef12-4536-4cd9-8624-7d437c7bc99e",
     "showTitle": false,
     "tableResultSettingsMap": {},
     "title": ""
    }
   },
   "outputs": [],
   "source": [
    "import matplotlib.pyplot as plt\n",
    "import faiss\n",
    "import pandas as pd\n",
    "import numpy as np\n",
    "import matplotlib.pyplot as plt\n",
    "import seaborn as sns\n",
    "\n",
    "# Required Spark Imports\n",
    "from pyspark.sql import SparkSession\n",
    "from pyspark.sql import functions as F\n",
    "from pyspark.sql.functions import *\n",
    "\n",
    "# Initialize Spark session (only needed if running outside Databricks)\n",
    "spark = SparkSession.builder.appName(\"MentorMatching\").getOrCreate()"
   ]
  },
  {
   "cell_type": "code",
   "execution_count": 0,
   "metadata": {
    "application/vnd.databricks.v1+cell": {
     "cellMetadata": {
      "byteLimit": 2048000,
      "rowLimit": 10000
     },
     "collapsed": true,
     "inputWidgets": {},
     "nuid": "2106f0e6-b4f8-4c57-ae68-d615e4e30c52",
     "showTitle": false,
     "tableResultSettingsMap": {},
     "title": ""
    }
   },
   "outputs": [],
   "source": [
    "profiles_df = spark.read.parquet('/dbfs/linkedin_people_train_data').withColumnRenamed(\"сourses\", \"courses\")\n",
    "\n",
    "filepath = '/FileStore/tables/Anya_files/df1_clustered.parquet'\n",
    "user_with_meta_industries = spark.read.parquet(f\"dbfs:{filepath}\")\n",
    "user_with_meta_industries = user_with_meta_industries.select(\"id\", \"name\", \"cluster\", \"user_features\", \"percentile_group\")\n",
    "user_with_meta_industries = user_with_meta_industries.withColumnsRenamed({\"cluster\": \"meta_industry\",\n",
    "                                                                          \"user_features\": \"features\"})"
   ]
  },
  {
   "cell_type": "code",
   "execution_count": 0,
   "metadata": {
    "application/vnd.databricks.v1+cell": {
     "cellMetadata": {
      "byteLimit": 2048000,
      "rowLimit": 10000
     },
     "collapsed": true,
     "inputWidgets": {},
     "nuid": "93635268-a9c9-41ef-b3b2-ed5412b5d9b1",
     "showTitle": false,
     "tableResultSettingsMap": {},
     "title": ""
    }
   },
   "outputs": [],
   "source": [
    "def find_potential_mentors(user_id: str, user_df: DataFrame, profiles_df: DataFrame, k: int = 5) -> DataFrame:\n",
    "    \"\"\"\n",
    "    Find K potential mentors for a given user using FAISS KNN (IndexFlatL2).\n",
    "    \n",
    "    Parameters:\n",
    "        user_id (str): The ID of the user for whom we are searching mentors.\n",
    "        user_df (DataFrame): The database of users with feature vectors.\n",
    "        profiles_df (DataFrame): The profiles DataFrame with full user details.\n",
    "        k (int): The number of nearest neighbors to find.\n",
    "    \n",
    "    Returns:\n",
    "        List[str]: List of mentor IDs and displays their profiles.\n",
    "    \"\"\"\n",
    "\n",
    "    # Step 1: Retrieve user details\n",
    "    user_row = user_df.filter(col(\"id\") == user_id).collect()\n",
    "    \n",
    "    if not user_row:\n",
    "        raise ValueError(f\"User ID {user_id} not found in the database.\")\n",
    "    \n",
    "    user_row = user_row[0]\n",
    "    user_meta_industry = user_row[\"meta_industry\"]\n",
    "    user_percentile_group = user_row[\"percentile_group\"]\n",
    "\n",
    "    # Step 2: Ensure the user is not in the lowest percentile group\n",
    "    if user_percentile_group == 0:\n",
    "        print(f\"User {user_id} is in the lowest percentile group and cannot have mentors.\")\n",
    "        return []\n",
    "\n",
    "    # Step 3: Filter potential mentors (same industry, 2 percentile groups above)\n",
    "    if user_percentile_group < 5: \n",
    "        potential_mentors_df = user_df.filter(\n",
    "            (col(\"meta_industry\") == user_meta_industry) &\n",
    "            (col(\"percentile_group\") > user_percentile_group) &\n",
    "            (col(\"percentile_group\") <= user_percentile_group + 2)\n",
    "        )\n",
    "    else:\n",
    "        potential_mentors_df = user_df.filter(\n",
    "            (col(\"percentile_group\") == user_percentile_group) &\n",
    "            (col(\"id\") != user_id)\n",
    "        )\n",
    "\n",
    "    # Step 4: Collect mentor feature vectors\n",
    "    mentor_data = potential_mentors_df.select(\"id\", \"features\").collect()\n",
    "    \n",
    "    if len(mentor_data) < k:\n",
    "        print(f\"Only found {len(mentor_data)} mentors matching the criteria.\")\n",
    "\n",
    "    if not mentor_data:\n",
    "        return []\n",
    "\n",
    "    mentor_ids = [row[\"id\"] for row in mentor_data]\n",
    "    mentor_vectors = np.array([row[\"features\"].toArray() for row in mentor_data]).astype(\"float32\")\n",
    "\n",
    "    # Step 5: Convert user's feature vector to NumPy array\n",
    "    user_vector = np.array(user_row[\"features\"].toArray()).astype(\"float32\").reshape(1, -1)\n",
    "\n",
    "    # Step 6: Create and populate FAISS index\n",
    "    vector_dim = mentor_vectors.shape[1]  # Number of features (12 in this case)\n",
    "    index = faiss.IndexFlatL2(vector_dim)  # L2 (Euclidean) distance index\n",
    "    index.add(mentor_vectors)  # Add mentor vectors to index\n",
    "\n",
    "    # Step 7: Run KNN search\n",
    "    _, indices = index.search(user_vector, k)\n",
    "\n",
    "    # Step 8: Retrieve mentor IDs\n",
    "    mentor_ids_selected = [mentor_ids[idx] for idx in indices[0]]\n",
    "\n",
    "    # Step 9: Display mentor profiles\n",
    "    mentor_profiles = profiles_df.filter(col(\"id\").isin(mentor_ids_selected))\n",
    "\n",
    "    return mentor_profiles"
   ]
  },
  {
   "cell_type": "markdown",
   "metadata": {
    "application/vnd.databricks.v1+cell": {
     "cellMetadata": {
      "byteLimit": 2048000,
      "rowLimit": 10000
     },
     "inputWidgets": {},
     "nuid": "7f05d312-dca3-4d14-b717-9299e48a0709",
     "showTitle": false,
     "tableResultSettingsMap": {},
     "title": ""
    }
   },
   "source": [
    "### Enter your user id"
   ]
  },
  {
   "cell_type": "code",
   "execution_count": 0,
   "metadata": {
    "application/vnd.databricks.v1+cell": {
     "cellMetadata": {
      "byteLimit": 2048000,
      "rowLimit": 10000
     },
     "inputWidgets": {},
     "nuid": "ce87be02-4993-48f7-9c37-48d88c8e29f6",
     "showTitle": false,
     "tableResultSettingsMap": {},
     "title": ""
    }
   },
   "outputs": [],
   "source": [
    "user_id = 'aodsessrubin'"
   ]
  },
  {
   "cell_type": "markdown",
   "metadata": {
    "application/vnd.databricks.v1+cell": {
     "cellMetadata": {},
     "inputWidgets": {},
     "nuid": "5d66759d-23fd-4905-ba50-d73352aa0d6b",
     "showTitle": false,
     "tableResultSettingsMap": {},
     "title": ""
    }
   },
   "source": [
    "### These are your profile details"
   ]
  },
  {
   "cell_type": "code",
   "execution_count": 0,
   "metadata": {
    "application/vnd.databricks.v1+cell": {
     "cellMetadata": {
      "byteLimit": 2048000,
      "rowLimit": 10000
     },
     "inputWidgets": {},
     "nuid": "18679ddd-489e-4a97-9aa9-932931cd1faf",
     "showTitle": false,
     "tableResultSettingsMap": {},
     "title": ""
    }
   },
   "outputs": [
    {
     "output_type": "display_data",
     "data": {
      "text/html": [
       "<style scoped>\n",
       "  .table-result-container {\n",
       "    max-height: 300px;\n",
       "    overflow: auto;\n",
       "  }\n",
       "  table, th, td {\n",
       "    border: 1px solid black;\n",
       "    border-collapse: collapse;\n",
       "  }\n",
       "  th, td {\n",
       "    padding: 5px;\n",
       "  }\n",
       "  th {\n",
       "    text-align: left;\n",
       "  }\n",
       "</style><div class='table-result-container'><table class='table-result'><thead style='background-color: white'><tr><th>id</th><th>name</th><th>about</th><th>current_company:name</th><th>url</th></tr></thead><tbody><tr><td>aodsessrubin</td><td>Adam Odsess-Rubin</td><td>Adam Odsess-Rubin is the Artistic Director and Founder of National Queer Theater and an experienced Teaching Artist. He is also Co-Founder of the Criminal Queerness Festival, a series of new plays showcasing LGBTQ+ playwrights from countries that criminalize or censor queer and trans artists. Formerly the Education Associate at New York Theatre Workshop and Education and Community Programs Fellow at American Conservatory Theater, Adam founded National Queer Theater after managing youth development programs at All Stars Project in San Francisco and New York. In San Francisco he became a prominent activist and organizer as the assistant to NAMES Project AIDS Memorial Quilt Founder Cleve Jones, organizing hotel service workers around issues affecting the LGBTQ+ community. Odsess-Rubin completed his Masters at New York University in the Educational Theatre for Colleges and Communities program, where he did done extensive research on storytelling and HIV/AIDS. Odsess-Rubin has collaborated with Lincoln Center, Carnegie Hall, The Guthrie Theater, American Conservatory Theatre, New York Theatre Workshop, New Conservatory Theatre Center, MCC Theater, and Refugee Youth Summer Academy. Headshot: Desmond Picotte</td><td>National Queer Theater</td><td>https://www.linkedin.com/in/aodsessrubin</td></tr></tbody></table></div>"
      ]
     },
     "metadata": {
      "application/vnd.databricks.v1+output": {
       "addedWidgets": {},
       "aggData": [],
       "aggError": "",
       "aggOverflow": false,
       "aggSchema": [],
       "aggSeriesLimitReached": false,
       "aggType": "",
       "arguments": {},
       "columnCustomDisplayInfos": {},
       "data": [
        [
         "aodsessrubin",
         "Adam Odsess-Rubin",
         "Adam Odsess-Rubin is the Artistic Director and Founder of National Queer Theater and an experienced Teaching Artist. He is also Co-Founder of the Criminal Queerness Festival, a series of new plays showcasing LGBTQ+ playwrights from countries that criminalize or censor queer and trans artists. Formerly the Education Associate at New York Theatre Workshop and Education and Community Programs Fellow at American Conservatory Theater, Adam founded National Queer Theater after managing youth development programs at All Stars Project in San Francisco and New York. In San Francisco he became a prominent activist and organizer as the assistant to NAMES Project AIDS Memorial Quilt Founder Cleve Jones, organizing hotel service workers around issues affecting the LGBTQ+ community. Odsess-Rubin completed his Masters at New York University in the Educational Theatre for Colleges and Communities program, where he did done extensive research on storytelling and HIV/AIDS. Odsess-Rubin has collaborated with Lincoln Center, Carnegie Hall, The Guthrie Theater, American Conservatory Theatre, New York Theatre Workshop, New Conservatory Theatre Center, MCC Theater, and Refugee Youth Summer Academy. Headshot: Desmond Picotte",
         "National Queer Theater",
         "https://www.linkedin.com/in/aodsessrubin"
        ]
       ],
       "datasetInfos": [],
       "dbfsResultPath": null,
       "isJsonSchema": true,
       "metadata": {},
       "overflow": false,
       "plotOptions": {
        "customPlotOptions": {},
        "displayType": "table",
        "pivotAggregation": null,
        "pivotColumns": null,
        "xColumns": null,
        "yColumns": null
       },
       "removedWidgets": [],
       "schema": [
        {
         "metadata": "{}",
         "name": "id",
         "type": "\"string\""
        },
        {
         "metadata": "{}",
         "name": "name",
         "type": "\"string\""
        },
        {
         "metadata": "{}",
         "name": "about",
         "type": "\"string\""
        },
        {
         "metadata": "{}",
         "name": "current_company:name",
         "type": "\"string\""
        },
        {
         "metadata": "{}",
         "name": "url",
         "type": "\"string\""
        }
       ],
       "type": "table"
      }
     },
     "output_type": "display_data"
    }
   ],
   "source": [
    "profiles_df.filter(col(\"id\") == user_id).select(\"id\", \"name\", \"about\", \"current_company:name\", \"url\").display()"
   ]
  },
  {
   "cell_type": "markdown",
   "metadata": {
    "application/vnd.databricks.v1+cell": {
     "cellMetadata": {
      "byteLimit": 2048000,
      "rowLimit": 10000
     },
     "inputWidgets": {},
     "nuid": "d964bbaa-70ba-4f34-8a50-847bdf841c1e",
     "showTitle": false,
     "tableResultSettingsMap": {},
     "title": ""
    }
   },
   "source": [
    "### Your mentor suggestions will be dispalyed below:"
   ]
  },
  {
   "cell_type": "code",
   "execution_count": 0,
   "metadata": {
    "application/vnd.databricks.v1+cell": {
     "cellMetadata": {
      "byteLimit": 2048000,
      "rowLimit": 10000
     },
     "inputWidgets": {},
     "nuid": "08f72aa9-d782-4167-9ffb-93b0a22d479b",
     "showTitle": false,
     "tableResultSettingsMap": {},
     "title": ""
    }
   },
   "outputs": [
    {
     "output_type": "display_data",
     "data": {
      "text/html": [
       "<style scoped>\n",
       "  .table-result-container {\n",
       "    max-height: 300px;\n",
       "    overflow: auto;\n",
       "  }\n",
       "  table, th, td {\n",
       "    border: 1px solid black;\n",
       "    border-collapse: collapse;\n",
       "  }\n",
       "  th, td {\n",
       "    padding: 5px;\n",
       "  }\n",
       "  th {\n",
       "    text-align: left;\n",
       "  }\n",
       "</style><div class='table-result-container'><table class='table-result'><thead style='background-color: white'><tr><th>id</th><th>name</th><th>about</th><th>current_company:name</th><th>url</th></tr></thead><tbody><tr><td>valerija-m-87962020</td><td>Valerija M.</td><td>Biostatistician with over 20 years of experience, primarily in phase III clinical trials and observational studies. Interested in health outcome research, hierarchical modeling, Bayesian modeling, SAS, R. RESEARCH EXPERIENCE - Collaborated with medical researchers as a primary statistician on manuscripts, abstract and poster presentations - Collaborated with medical researchers as a primary statistician on manuscripts, abstract and poster presentations - Conducted statistical analysis in SAS, R - Trained research staff on study design and procedures - Created reports Data and Safety Monitoring Committees</td><td>null</td><td>https://www.linkedin.com/in/valerija-m-87962020</td></tr><tr><td>darling-yanes-67556592</td><td>Darling Yanes</td><td>Dedicated Speech-Language Pathologist with a professional presence and an empathetic understanding of patients dealing with communication and swallowing disorders. Experience with trach and vent patients and critical care.</td><td>Genesis Rehab Services</td><td>https://www.linkedin.com/in/darling-yanes-67556592</td></tr><tr><td>michelle-lohman-8a6a4920</td><td>Michelle Lohman</td><td>I am passionate about helping others!</td><td>Realty ONE Group</td><td>https://www.linkedin.com/in/michelle-lohman-8a6a4920</td></tr><tr><td>jim-davis-1437ab7</td><td>Jim Davis</td><td>Experience: Jim Davis, after 25 years' work in community mental health/substance abuse and private practice, discovered that disaster response and recovery work offered unique opportunities to apply his full range of experience and skills. Goals: Consultation regarding— Advance the development, testing, and refinement of best practices in the field of disaster response & recovery, especially as applied to capacity-building, behavioral health and case management. Particular emphasis on integration of lessons learned from past disasters and collaborative work between government, NGO, and faith-based providers.</td><td>null</td><td>https://www.linkedin.com/in/jim-davis-1437ab7</td></tr><tr><td>john-d-cruz-chmm-mba-44587877</td><td>John D. Cruz, CHMM, MBA</td><td>Experienced TSDF,RCRA, NORM, EH&S and wastewater manager with a proven history in a multi-task environment.</td><td>American Allwaste</td><td>https://www.linkedin.com/in/john-d-cruz-chmm-mba-44587877</td></tr></tbody></table></div>"
      ]
     },
     "metadata": {
      "application/vnd.databricks.v1+output": {
       "addedWidgets": {},
       "aggData": [],
       "aggError": "",
       "aggOverflow": false,
       "aggSchema": [],
       "aggSeriesLimitReached": false,
       "aggType": "",
       "arguments": {},
       "columnCustomDisplayInfos": {},
       "data": [
        [
         "valerija-m-87962020",
         "Valerija M.",
         "Biostatistician with over 20 years of experience, primarily in phase III clinical trials and observational studies. Interested in health outcome research, hierarchical modeling, Bayesian modeling, SAS, R. RESEARCH EXPERIENCE - Collaborated with medical researchers as a primary statistician on manuscripts, abstract and poster presentations - Collaborated with medical researchers as a primary statistician on manuscripts, abstract and poster presentations - Conducted statistical analysis in SAS, R - Trained research staff on study design and procedures - Created reports Data and Safety Monitoring Committees",
         null,
         "https://www.linkedin.com/in/valerija-m-87962020"
        ],
        [
         "darling-yanes-67556592",
         "Darling Yanes",
         "Dedicated Speech-Language Pathologist with a professional presence and an empathetic understanding of patients dealing with communication and swallowing disorders. Experience with trach and vent patients and critical care.",
         "Genesis Rehab Services",
         "https://www.linkedin.com/in/darling-yanes-67556592"
        ],
        [
         "michelle-lohman-8a6a4920",
         "Michelle Lohman",
         "I am passionate about helping others!",
         "Realty ONE Group",
         "https://www.linkedin.com/in/michelle-lohman-8a6a4920"
        ],
        [
         "jim-davis-1437ab7",
         "Jim Davis",
         "Experience: Jim Davis, after 25 years' work in community mental health/substance abuse and private practice, discovered that disaster response and recovery work offered unique opportunities to apply his full range of experience and skills. Goals: Consultation regarding— Advance the development, testing, and refinement of best practices in the field of disaster response & recovery, especially as applied to capacity-building, behavioral health and case management. Particular emphasis on integration of lessons learned from past disasters and collaborative work between government, NGO, and faith-based providers.",
         null,
         "https://www.linkedin.com/in/jim-davis-1437ab7"
        ],
        [
         "john-d-cruz-chmm-mba-44587877",
         "John D. Cruz, CHMM, MBA",
         "Experienced TSDF,RCRA, NORM, EH&S and wastewater manager with a proven history in a multi-task environment.",
         "American Allwaste",
         "https://www.linkedin.com/in/john-d-cruz-chmm-mba-44587877"
        ]
       ],
       "datasetInfos": [],
       "dbfsResultPath": null,
       "isJsonSchema": true,
       "metadata": {},
       "overflow": false,
       "plotOptions": {
        "customPlotOptions": {},
        "displayType": "table",
        "pivotAggregation": null,
        "pivotColumns": null,
        "xColumns": null,
        "yColumns": null
       },
       "removedWidgets": [],
       "schema": [
        {
         "metadata": "{}",
         "name": "id",
         "type": "\"string\""
        },
        {
         "metadata": "{}",
         "name": "name",
         "type": "\"string\""
        },
        {
         "metadata": "{}",
         "name": "about",
         "type": "\"string\""
        },
        {
         "metadata": "{}",
         "name": "current_company:name",
         "type": "\"string\""
        },
        {
         "metadata": "{}",
         "name": "url",
         "type": "\"string\""
        }
       ],
       "type": "table"
      }
     },
     "output_type": "display_data"
    }
   ],
   "source": [
    "mentors = find_potential_mentors(user_id, user_with_meta_industries, profiles_df, k=5)\n",
    "mentors.select(\"id\", \"name\", \"about\", \"current_company:name\", \"url\").display()"
   ]
  },
  {
   "cell_type": "markdown",
   "metadata": {
    "application/vnd.databricks.v1+cell": {
     "cellMetadata": {
      "byteLimit": 2048000,
      "rowLimit": 10000
     },
     "inputWidgets": {},
     "nuid": "d8010e32-8d77-49f8-b244-ac69e072a2b5",
     "showTitle": false,
     "tableResultSettingsMap": {},
     "title": ""
    }
   },
   "source": [
    "## How are mentors suggsted?\n",
    "\n",
    "Our AI-powered system carefully analyzes your profile to find the best mentor matches. We identify similarities in career paths, skills, and interests while ensuring a meaningful gap in experience levels. This way, we connect you with someone who can provide valuable insights and guidance, creating a mutually beneficial mentorship experience!"
   ]
  }
 ],
 "metadata": {
  "application/vnd.databricks.v1+notebook": {
   "computePreferences": null,
   "dashboards": [],
   "environmentMetadata": {
    "base_environment": "",
    "environment_version": "1"
   },
   "language": "python",
   "notebookMetadata": {
    "pythonIndentUnit": 4
   },
   "notebookName": "Mentors Matching Demo",
   "widgets": {}
  },
  "language_info": {
   "name": "python"
  }
 },
 "nbformat": 4,
 "nbformat_minor": 0
}